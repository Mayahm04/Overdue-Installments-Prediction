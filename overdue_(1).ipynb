{
  "nbformat": 4,
  "nbformat_minor": 0,
  "metadata": {
    "colab": {
      "provenance": [],
      "collapsed_sections": [
        "5tKN0o1QfNEJ",
        "nv_fMfeWGFZ-",
        "SaC043ESiJYs",
        "SJbMCLymO5GY",
        "NGr8hCL3sIpz",
        "i47JOHnRx598",
        "ybWcaGAhMfe6"
      ],
      "gpuType": "T4"
    },
    "kernelspec": {
      "name": "python3",
      "display_name": "Python 3"
    },
    "language_info": {
      "name": "python"
    },
    "accelerator": "GPU"
  },
  "cells": [
    {
      "cell_type": "markdown",
      "source": [
        "##preprocessing"
      ],
      "metadata": {
        "id": "5tKN0o1QfNEJ"
      }
    },
    {
      "cell_type": "code",
      "source": [
        "import numpy as np\n",
        "import pandas as pd\n",
        "import matplotlib as plt\n",
        "import matplotlib.pyplot as plt\n",
        "import seaborn as sns\n",
        "from sklearn.model_selection import train_test_split\n",
        "from sklearn.preprocessing import StandardScaler\n",
        "import tensorflow as tf\n",
        "from sklearn.preprocessing import StandardScaler\n"
      ],
      "metadata": {
        "id": "1aoVDzfpH2E-",
        "execution": {
          "iopub.status.busy": "2023-06-18T05:28:00.304285Z",
          "iopub.execute_input": "2023-06-18T05:28:00.304704Z",
          "iopub.status.idle": "2023-06-18T05:28:00.312170Z",
          "shell.execute_reply.started": "2023-06-18T05:28:00.304674Z",
          "shell.execute_reply": "2023-06-18T05:28:00.310888Z"
        },
        "trusted": true
      },
      "execution_count": null,
      "outputs": []
    },
    {
      "cell_type": "code",
      "source": [
        "df=pd.read_csv('/content/train.csv')\n",
        "dt = pd.read_csv('/content/test.csv')"
      ],
      "metadata": {
        "id": "zO62Bh1tB4EO"
      },
      "execution_count": null,
      "outputs": []
    },
    {
      "cell_type": "code",
      "source": [
        "df.head()"
      ],
      "metadata": {
        "id": "9B36UdpDCC4v",
        "colab": {
          "base_uri": "https://localhost:8080/"
        },
        "outputId": "0bd6de26-167b-436a-d12b-17c9fd3da9b7"
      },
      "execution_count": null,
      "outputs": [
        {
          "output_type": "execute_result",
          "data": {
            "text/plain": [
              "         id   Type de produit  Montant accepté  Ancienneté à lemploi  \\\n",
              "0  id_49182  Crédit classique        310000.00                 190.0   \n",
              "1  id_69738  Crédit classique        300000.00                   NaN   \n",
              "2   id_2686  Crédit classique        360000.00                 132.0   \n",
              "3  id_43387  Crédit classique        375501.98                  90.0   \n",
              "4  id_28579  Crédit classique        389130.00                  24.0   \n",
              "\n",
              "  Situation logement Canal production  Durée du prêt Type client  \\\n",
              "0            Hébergé           Agence             36         CCP   \n",
              "1       Propriétaire           Agence             36         CCP   \n",
              "2            Hébergé           Agence             36         CCP   \n",
              "3            Hébergé           Agence             36         CCP   \n",
              "4            Hébergé           Agence             36         CCP   \n",
              "\n",
              "  Statut de lemploi  Charges totales  ...   Segment Montant échéance  \\\n",
              "0            Public         10982.51  ...   Salarié         10982.51   \n",
              "1               NaN         10538.24  ...  Retraité         10538.24   \n",
              "2            Public         12708.32  ...   Salarié         12708.32   \n",
              "3            Public         13303.08  ...   Salarié         13303.08   \n",
              "4             Privé         13785.89  ...   Salarié         13785.89   \n",
              "\n",
              "   Situation familiale Montant demandé Taux dendettement Taux dinteret  \\\n",
              "0          Célibataire       310000.00          0.292398          12.9   \n",
              "1            Marié (e)       300000.00          0.254547          12.9   \n",
              "2            Marié (e)       360000.00          0.288171          12.9   \n",
              "3          Célibataire       375501.98          0.295004          12.9   \n",
              "4            Marié (e)       389130.00          0.287206          12.9   \n",
              "\n",
              "  Région/pays de résidence  Genre  Ancienneté de logement  \\\n",
              "0           Sidi Bel-Abbès  Homme                     NaN   \n",
              "1                   Béjaïa  Homme                     0.0   \n",
              "2             Souk - Ahras  Homme                     NaN   \n",
              "3              El - Bayadh  Homme                     NaN   \n",
              "4              Ain - Defla  Homme                     NaN   \n",
              "\n",
              "   Nombre d’échéance en retard  \n",
              "0                            0  \n",
              "1                            0  \n",
              "2                            0  \n",
              "3                            0  \n",
              "4                           10  \n",
              "\n",
              "[5 rows x 25 columns]"
            ],
            "text/html": [
              "\n",
              "  <div id=\"df-26194520-84e0-48cb-abd6-408af396f737\">\n",
              "    <div class=\"colab-df-container\">\n",
              "      <div>\n",
              "<style scoped>\n",
              "    .dataframe tbody tr th:only-of-type {\n",
              "        vertical-align: middle;\n",
              "    }\n",
              "\n",
              "    .dataframe tbody tr th {\n",
              "        vertical-align: top;\n",
              "    }\n",
              "\n",
              "    .dataframe thead th {\n",
              "        text-align: right;\n",
              "    }\n",
              "</style>\n",
              "<table border=\"1\" class=\"dataframe\">\n",
              "  <thead>\n",
              "    <tr style=\"text-align: right;\">\n",
              "      <th></th>\n",
              "      <th>id</th>\n",
              "      <th>Type de produit</th>\n",
              "      <th>Montant accepté</th>\n",
              "      <th>Ancienneté à lemploi</th>\n",
              "      <th>Situation logement</th>\n",
              "      <th>Canal production</th>\n",
              "      <th>Durée du prêt</th>\n",
              "      <th>Type client</th>\n",
              "      <th>Statut de lemploi</th>\n",
              "      <th>Charges totales</th>\n",
              "      <th>...</th>\n",
              "      <th>Segment</th>\n",
              "      <th>Montant échéance</th>\n",
              "      <th>Situation familiale</th>\n",
              "      <th>Montant demandé</th>\n",
              "      <th>Taux dendettement</th>\n",
              "      <th>Taux dinteret</th>\n",
              "      <th>Région/pays de résidence</th>\n",
              "      <th>Genre</th>\n",
              "      <th>Ancienneté de logement</th>\n",
              "      <th>Nombre d’échéance en retard</th>\n",
              "    </tr>\n",
              "  </thead>\n",
              "  <tbody>\n",
              "    <tr>\n",
              "      <th>0</th>\n",
              "      <td>id_49182</td>\n",
              "      <td>Crédit classique</td>\n",
              "      <td>310000.00</td>\n",
              "      <td>190.0</td>\n",
              "      <td>Hébergé</td>\n",
              "      <td>Agence</td>\n",
              "      <td>36</td>\n",
              "      <td>CCP</td>\n",
              "      <td>Public</td>\n",
              "      <td>10982.51</td>\n",
              "      <td>...</td>\n",
              "      <td>Salarié</td>\n",
              "      <td>10982.51</td>\n",
              "      <td>Célibataire</td>\n",
              "      <td>310000.00</td>\n",
              "      <td>0.292398</td>\n",
              "      <td>12.9</td>\n",
              "      <td>Sidi Bel-Abbès</td>\n",
              "      <td>Homme</td>\n",
              "      <td>NaN</td>\n",
              "      <td>0</td>\n",
              "    </tr>\n",
              "    <tr>\n",
              "      <th>1</th>\n",
              "      <td>id_69738</td>\n",
              "      <td>Crédit classique</td>\n",
              "      <td>300000.00</td>\n",
              "      <td>NaN</td>\n",
              "      <td>Propriétaire</td>\n",
              "      <td>Agence</td>\n",
              "      <td>36</td>\n",
              "      <td>CCP</td>\n",
              "      <td>NaN</td>\n",
              "      <td>10538.24</td>\n",
              "      <td>...</td>\n",
              "      <td>Retraité</td>\n",
              "      <td>10538.24</td>\n",
              "      <td>Marié (e)</td>\n",
              "      <td>300000.00</td>\n",
              "      <td>0.254547</td>\n",
              "      <td>12.9</td>\n",
              "      <td>Béjaïa</td>\n",
              "      <td>Homme</td>\n",
              "      <td>0.0</td>\n",
              "      <td>0</td>\n",
              "    </tr>\n",
              "    <tr>\n",
              "      <th>2</th>\n",
              "      <td>id_2686</td>\n",
              "      <td>Crédit classique</td>\n",
              "      <td>360000.00</td>\n",
              "      <td>132.0</td>\n",
              "      <td>Hébergé</td>\n",
              "      <td>Agence</td>\n",
              "      <td>36</td>\n",
              "      <td>CCP</td>\n",
              "      <td>Public</td>\n",
              "      <td>12708.32</td>\n",
              "      <td>...</td>\n",
              "      <td>Salarié</td>\n",
              "      <td>12708.32</td>\n",
              "      <td>Marié (e)</td>\n",
              "      <td>360000.00</td>\n",
              "      <td>0.288171</td>\n",
              "      <td>12.9</td>\n",
              "      <td>Souk - Ahras</td>\n",
              "      <td>Homme</td>\n",
              "      <td>NaN</td>\n",
              "      <td>0</td>\n",
              "    </tr>\n",
              "    <tr>\n",
              "      <th>3</th>\n",
              "      <td>id_43387</td>\n",
              "      <td>Crédit classique</td>\n",
              "      <td>375501.98</td>\n",
              "      <td>90.0</td>\n",
              "      <td>Hébergé</td>\n",
              "      <td>Agence</td>\n",
              "      <td>36</td>\n",
              "      <td>CCP</td>\n",
              "      <td>Public</td>\n",
              "      <td>13303.08</td>\n",
              "      <td>...</td>\n",
              "      <td>Salarié</td>\n",
              "      <td>13303.08</td>\n",
              "      <td>Célibataire</td>\n",
              "      <td>375501.98</td>\n",
              "      <td>0.295004</td>\n",
              "      <td>12.9</td>\n",
              "      <td>El - Bayadh</td>\n",
              "      <td>Homme</td>\n",
              "      <td>NaN</td>\n",
              "      <td>0</td>\n",
              "    </tr>\n",
              "    <tr>\n",
              "      <th>4</th>\n",
              "      <td>id_28579</td>\n",
              "      <td>Crédit classique</td>\n",
              "      <td>389130.00</td>\n",
              "      <td>24.0</td>\n",
              "      <td>Hébergé</td>\n",
              "      <td>Agence</td>\n",
              "      <td>36</td>\n",
              "      <td>CCP</td>\n",
              "      <td>Privé</td>\n",
              "      <td>13785.89</td>\n",
              "      <td>...</td>\n",
              "      <td>Salarié</td>\n",
              "      <td>13785.89</td>\n",
              "      <td>Marié (e)</td>\n",
              "      <td>389130.00</td>\n",
              "      <td>0.287206</td>\n",
              "      <td>12.9</td>\n",
              "      <td>Ain - Defla</td>\n",
              "      <td>Homme</td>\n",
              "      <td>NaN</td>\n",
              "      <td>10</td>\n",
              "    </tr>\n",
              "  </tbody>\n",
              "</table>\n",
              "<p>5 rows × 25 columns</p>\n",
              "</div>\n",
              "      <button class=\"colab-df-convert\" onclick=\"convertToInteractive('df-26194520-84e0-48cb-abd6-408af396f737')\"\n",
              "              title=\"Convert this dataframe to an interactive table.\"\n",
              "              style=\"display:none;\">\n",
              "        \n",
              "  <svg xmlns=\"http://www.w3.org/2000/svg\" height=\"24px\"viewBox=\"0 0 24 24\"\n",
              "       width=\"24px\">\n",
              "    <path d=\"M0 0h24v24H0V0z\" fill=\"none\"/>\n",
              "    <path d=\"M18.56 5.44l.94 2.06.94-2.06 2.06-.94-2.06-.94-.94-2.06-.94 2.06-2.06.94zm-11 1L8.5 8.5l.94-2.06 2.06-.94-2.06-.94L8.5 2.5l-.94 2.06-2.06.94zm10 10l.94 2.06.94-2.06 2.06-.94-2.06-.94-.94-2.06-.94 2.06-2.06.94z\"/><path d=\"M17.41 7.96l-1.37-1.37c-.4-.4-.92-.59-1.43-.59-.52 0-1.04.2-1.43.59L10.3 9.45l-7.72 7.72c-.78.78-.78 2.05 0 2.83L4 21.41c.39.39.9.59 1.41.59.51 0 1.02-.2 1.41-.59l7.78-7.78 2.81-2.81c.8-.78.8-2.07 0-2.86zM5.41 20L4 18.59l7.72-7.72 1.47 1.35L5.41 20z\"/>\n",
              "  </svg>\n",
              "      </button>\n",
              "      \n",
              "  <style>\n",
              "    .colab-df-container {\n",
              "      display:flex;\n",
              "      flex-wrap:wrap;\n",
              "      gap: 12px;\n",
              "    }\n",
              "\n",
              "    .colab-df-convert {\n",
              "      background-color: #E8F0FE;\n",
              "      border: none;\n",
              "      border-radius: 50%;\n",
              "      cursor: pointer;\n",
              "      display: none;\n",
              "      fill: #1967D2;\n",
              "      height: 32px;\n",
              "      padding: 0 0 0 0;\n",
              "      width: 32px;\n",
              "    }\n",
              "\n",
              "    .colab-df-convert:hover {\n",
              "      background-color: #E2EBFA;\n",
              "      box-shadow: 0px 1px 2px rgba(60, 64, 67, 0.3), 0px 1px 3px 1px rgba(60, 64, 67, 0.15);\n",
              "      fill: #174EA6;\n",
              "    }\n",
              "\n",
              "    [theme=dark] .colab-df-convert {\n",
              "      background-color: #3B4455;\n",
              "      fill: #D2E3FC;\n",
              "    }\n",
              "\n",
              "    [theme=dark] .colab-df-convert:hover {\n",
              "      background-color: #434B5C;\n",
              "      box-shadow: 0px 1px 3px 1px rgba(0, 0, 0, 0.15);\n",
              "      filter: drop-shadow(0px 1px 2px rgba(0, 0, 0, 0.3));\n",
              "      fill: #FFFFFF;\n",
              "    }\n",
              "  </style>\n",
              "\n",
              "      <script>\n",
              "        const buttonEl =\n",
              "          document.querySelector('#df-26194520-84e0-48cb-abd6-408af396f737 button.colab-df-convert');\n",
              "        buttonEl.style.display =\n",
              "          google.colab.kernel.accessAllowed ? 'block' : 'none';\n",
              "\n",
              "        async function convertToInteractive(key) {\n",
              "          const element = document.querySelector('#df-26194520-84e0-48cb-abd6-408af396f737');\n",
              "          const dataTable =\n",
              "            await google.colab.kernel.invokeFunction('convertToInteractive',\n",
              "                                                     [key], {});\n",
              "          if (!dataTable) return;\n",
              "\n",
              "          const docLinkHtml = 'Like what you see? Visit the ' +\n",
              "            '<a target=\"_blank\" href=https://colab.research.google.com/notebooks/data_table.ipynb>data table notebook</a>'\n",
              "            + ' to learn more about interactive tables.';\n",
              "          element.innerHTML = '';\n",
              "          dataTable['output_type'] = 'display_data';\n",
              "          await google.colab.output.renderOutput(dataTable, element);\n",
              "          const docLink = document.createElement('div');\n",
              "          docLink.innerHTML = docLinkHtml;\n",
              "          element.appendChild(docLink);\n",
              "        }\n",
              "      </script>\n",
              "    </div>\n",
              "  </div>\n",
              "  "
            ]
          },
          "metadata": {},
          "execution_count": 136
        }
      ]
    },
    {
      "cell_type": "code",
      "source": [
        "df['Segment'].value_counts()\n",
        "\n"
      ],
      "metadata": {
        "colab": {
          "base_uri": "https://localhost:8080/"
        },
        "id": "KQ8SmQRGbCUw",
        "outputId": "11c7dcfa-1c8e-4861-9065-eff7a29b3ced"
      },
      "execution_count": null,
      "outputs": [
        {
          "output_type": "execute_result",
          "data": {
            "text/plain": [
              "Salarié                8429\n",
              "Retraité               2869\n",
              "Commerçant               28\n",
              "Profession libérale       4\n",
              "57000                     1\n",
              "31450                     1\n",
              "27164.64                  1\n",
              "Name: Segment, dtype: int64"
            ]
          },
          "metadata": {},
          "execution_count": 137
        }
      ]
    },
    {
      "cell_type": "code",
      "source": [
        "df.info()"
      ],
      "metadata": {
        "colab": {
          "base_uri": "https://localhost:8080/"
        },
        "id": "BgjA4-J4eGo-",
        "outputId": "0f02a0dd-74d9-46e6-c869-03bfacd68e25"
      },
      "execution_count": null,
      "outputs": [
        {
          "output_type": "stream",
          "name": "stdout",
          "text": [
            "<class 'pandas.core.frame.DataFrame'>\n",
            "RangeIndex: 11333 entries, 0 to 11332\n",
            "Data columns (total 25 columns):\n",
            " #   Column                           Non-Null Count  Dtype  \n",
            "---  ------                           --------------  -----  \n",
            " 0   id                               11333 non-null  object \n",
            " 1   Type de produit                  11333 non-null  object \n",
            " 2   Montant accepté                  11333 non-null  float64\n",
            " 3   Ancienneté à lemploi             8463 non-null   float64\n",
            " 4   Situation logement               11333 non-null  object \n",
            " 5   Canal production                 7305 non-null   object \n",
            " 6   Durée du prêt                    11333 non-null  int64  \n",
            " 7   Type client                      11333 non-null  object \n",
            " 8   Statut de lemploi                8470 non-null   object \n",
            " 9   Charges totales                  11333 non-null  float64\n",
            " 10  Revenu totaux                    11333 non-null  float64\n",
            " 11  Existence dun 2ème inerlocuteur  11333 non-null  object \n",
            " 12  Age                              11330 non-null  float64\n",
            " 13  Secteur dactivité                8464 non-null   object \n",
            " 14  Salaire net mensuel.1            11332 non-null  object \n",
            " 15  Segment                          11333 non-null  object \n",
            " 16  Montant échéance                 11333 non-null  object \n",
            " 17  Situation familiale              11333 non-null  object \n",
            " 18  Montant demandé                  11333 non-null  float64\n",
            " 19  Taux dendettement                11333 non-null  float64\n",
            " 20  Taux dinteret                    11333 non-null  float64\n",
            " 21  Région/pays de résidence         11333 non-null  object \n",
            " 22  Genre                            11263 non-null  object \n",
            " 23  Ancienneté de logement           4362 non-null   float64\n",
            " 24  Nombre d’échéance en retard      11333 non-null  int64  \n",
            "dtypes: float64(9), int64(2), object(14)\n",
            "memory usage: 2.2+ MB\n"
          ]
        }
      ]
    },
    {
      "cell_type": "code",
      "source": [
        "df.isnull().sum()"
      ],
      "metadata": {
        "colab": {
          "base_uri": "https://localhost:8080/"
        },
        "id": "-XD9Cm1NCKkT",
        "outputId": "20703e9e-5d38-4799-9515-80ff1320366e"
      },
      "execution_count": null,
      "outputs": [
        {
          "output_type": "execute_result",
          "data": {
            "text/plain": [
              "id                                    0\n",
              "Type de produit                       0\n",
              "Montant accepté                       0\n",
              "Ancienneté à lemploi               2870\n",
              "Situation logement                    0\n",
              "Canal production                   4028\n",
              "Durée du prêt                         0\n",
              "Type client                           0\n",
              "Statut de lemploi                  2863\n",
              "Charges totales                       0\n",
              "Revenu totaux                         0\n",
              "Existence dun 2ème inerlocuteur       0\n",
              "Age                                   3\n",
              "Secteur dactivité                  2869\n",
              "Salaire net mensuel.1                 1\n",
              "Segment                               0\n",
              "Montant échéance                      0\n",
              "Situation familiale                   0\n",
              "Montant demandé                       0\n",
              "Taux dendettement                     0\n",
              "Taux dinteret                         0\n",
              "Région/pays de résidence              0\n",
              "Genre                                70\n",
              "Ancienneté de logement             6971\n",
              "Nombre d’échéance en retard           0\n",
              "dtype: int64"
            ]
          },
          "metadata": {},
          "execution_count": 139
        }
      ]
    },
    {
      "cell_type": "code",
      "source": [
        "df.columns"
      ],
      "metadata": {
        "colab": {
          "base_uri": "https://localhost:8080/"
        },
        "id": "zufpmoiTD__k",
        "outputId": "2a3120bb-ad10-4e22-963a-1b898354662a"
      },
      "execution_count": null,
      "outputs": [
        {
          "output_type": "execute_result",
          "data": {
            "text/plain": [
              "Index(['id', 'Type de produit', 'Montant accepté', 'Ancienneté à lemploi',\n",
              "       'Situation logement', 'Canal production', 'Durée du prêt',\n",
              "       'Type client', 'Statut de lemploi', 'Charges totales', 'Revenu totaux',\n",
              "       'Existence dun 2ème inerlocuteur', 'Age', 'Secteur dactivité',\n",
              "       'Salaire net mensuel.1', 'Segment', 'Montant échéance',\n",
              "       'Situation familiale', 'Montant demandé', 'Taux dendettement',\n",
              "       'Taux dinteret', 'Région/pays de résidence', 'Genre',\n",
              "       'Ancienneté de logement', 'Nombre d’échéance en retard'],\n",
              "      dtype='object')"
            ]
          },
          "metadata": {},
          "execution_count": 140
        }
      ]
    },
    {
      "cell_type": "code",
      "source": [
        "import pandas as pd\n",
        "# Identify categorical columns\n",
        "categorical_cols = df.select_dtypes(include=['object', 'category']).columns\n",
        "# Display the categorical columns\n",
        "print(categorical_cols)\n"
      ],
      "metadata": {
        "colab": {
          "base_uri": "https://localhost:8080/"
        },
        "id": "8weoS5iEKTGk",
        "outputId": "c62d4dfe-7bde-4d7d-fa02-687a7af64ec6"
      },
      "execution_count": null,
      "outputs": [
        {
          "output_type": "stream",
          "name": "stdout",
          "text": [
            "Index(['id', 'Type de produit', 'Situation logement', 'Canal production',\n",
            "       'Type client', 'Statut de lemploi', 'Existence dun 2ème inerlocuteur',\n",
            "       'Secteur dactivité', 'Salaire net mensuel.1', 'Segment',\n",
            "       'Montant échéance', 'Situation familiale', 'Région/pays de résidence',\n",
            "       'Genre'],\n",
            "      dtype='object')\n"
          ]
        }
      ]
    },
    {
      "cell_type": "code",
      "source": [
        "dt2 = dt['id']\n",
        "dt2"
      ],
      "metadata": {
        "colab": {
          "base_uri": "https://localhost:8080/"
        },
        "id": "3vXPxZL5Nyu4",
        "outputId": "fe2daf0b-2c97-426e-926d-252d2f29e469"
      },
      "execution_count": null,
      "outputs": [
        {
          "output_type": "execute_result",
          "data": {
            "text/plain": [
              "0       id_89668\n",
              "1       id_68297\n",
              "2       id_77021\n",
              "3       id_27759\n",
              "4       id_89347\n",
              "          ...   \n",
              "5578    id_13927\n",
              "5579    id_66626\n",
              "5580    id_95016\n",
              "5581     id_8354\n",
              "5582     id_6181\n",
              "Name: id, Length: 5583, dtype: object"
            ]
          },
          "metadata": {},
          "execution_count": 142
        }
      ]
    },
    {
      "cell_type": "code",
      "source": [
        "from sklearn.preprocessing import LabelEncoder\n",
        "\n",
        "# Créer une liste de valeurs pour illustrer l'encodage\n",
        "#col=[\"Situation logement\"\t,'Type de produit',\"Canal production\"\t,\"Type client\"\t,\"Statut de lemploi\"\t,\"Existence dun 2ème inerlocuteur\"\t,\"Secteur dactivité\" ,\"Segment\"\t,\"Situation familiale\",\t\"Région/pays de résidence\"\t,\"Genre\"]\n",
        "col = ['id', 'Type de produit', 'Situation logement', 'Canal production',\n",
        "       'Type client', 'Statut de lemploi', 'Existence dun 2ème inerlocuteur',\n",
        "       'Secteur dactivité', 'Salaire net mensuel.1', 'Segment',\n",
        "       'Montant échéance', 'Situation familiale', 'Région/pays de résidence',\n",
        "       'Genre']\n",
        "\n",
        "\n",
        "\n",
        "\n",
        "# Instancier le LabelEncoder\n",
        "encoder = LabelEncoder()\n",
        "\n",
        "# Effectuer le Label Encoding\n",
        "for c in col:\n",
        "    df[c] = encoder.fit_transform(df[c])\n",
        "\n",
        "for c in col:\n",
        "    dt[c] = encoder.fit_transform(dt[c])\n",
        "\n"
      ],
      "metadata": {
        "id": "BFrXElFWD2pD"
      },
      "execution_count": null,
      "outputs": []
    },
    {
      "cell_type": "code",
      "source": [
        "df['Ancienneté à lemploi'] = np.minimum(df['Ancienneté à lemploi'], 2400)\n",
        "\n",
        "dt['Ancienneté à lemploi'] = np.minimum(dt['Ancienneté à lemploi'], 2400)"
      ],
      "metadata": {
        "id": "LFlkXb9zlaXW"
      },
      "execution_count": null,
      "outputs": []
    },
    {
      "cell_type": "code",
      "source": [
        "df['Ancienneté à lemploi'].fillna(df['Ancienneté à lemploi'].mean(),inplace=True)\n",
        "\n",
        "df['Age'].fillna(df['Age'].mean(), inplace=True)\n",
        "\n",
        "df['Ancienneté de logement'].fillna(df['Ancienneté de logement'].mean(), inplace=True)\n",
        "\n",
        "\n",
        "df['Canal production'].fillna(df['Canal production'].mean(), inplace=True)\n",
        "\n",
        "df['Statut de lemploi'].fillna(df['Statut de lemploi'].mean(), inplace=True)\n",
        "\n",
        "df['Secteur dactivité'].fillna(df['Secteur dactivité'].mean(), inplace=True)\n",
        "\n",
        "df['Segment'].fillna(df['Segment'].mean(), inplace=True)\n",
        "\n",
        "df['Genre'].fillna(df['Genre'].mean(), inplace=True)\n",
        "\n",
        "df.dropna(subset=['Salaire net mensuel.1'], inplace=True)\n",
        "\n",
        "\n",
        "\n",
        "\n",
        "\n",
        "dt['Ancienneté à lemploi'].fillna(dt['Ancienneté à lemploi'].mean(),inplace=True)\n",
        "\n",
        "dt['Age'].fillna(dt['Age'].mean(), inplace=True)\n",
        "\n",
        "dt['Ancienneté de logement'].fillna(dt['Ancienneté de logement'].mean(), inplace=True)\n",
        "\n",
        "\n",
        "dt['Canal production'].fillna(dt['Canal production'].mean(), inplace=True)\n",
        "\n",
        "dt['Statut de lemploi'].fillna(dt['Statut de lemploi'].mean(), inplace=True)\n",
        "\n",
        "dt['Secteur dactivité'].fillna(dt['Secteur dactivité'].mean(), inplace=True)\n",
        "\n",
        "dt['Segment'].fillna(dt['Segment'].mean(), inplace=True)\n",
        "\n",
        "dt['Genre'].fillna(dt['Genre'].mean(), inplace=True)\n",
        "\n",
        "dt.dropna(subset=['Salaire net mensuel.1'], inplace=True)\n",
        "\n",
        "\n",
        "\n",
        "\n",
        "\n"
      ],
      "metadata": {
        "id": "5JakUeb-CsD0"
      },
      "execution_count": null,
      "outputs": []
    },
    {
      "cell_type": "markdown",
      "source": [
        "##creating a model"
      ],
      "metadata": {
        "id": "nv_fMfeWGFZ-"
      }
    },
    {
      "cell_type": "code",
      "source": [
        "df.head()"
      ],
      "metadata": {
        "colab": {
          "base_uri": "https://localhost:8080/"
        },
        "id": "3RHzfMRDv5tU",
        "outputId": "3e18f736-a11a-4698-a30c-a16893581396"
      },
      "execution_count": null,
      "outputs": [
        {
          "output_type": "execute_result",
          "data": {
            "text/plain": [
              "     id  Type de produit  Montant accepté  Ancienneté à lemploi  \\\n",
              "0  5783                2        310000.00            190.000000   \n",
              "1  8456                2        300000.00            122.532435   \n",
              "2  2444                2        360000.00            132.000000   \n",
              "3  4928                2        375501.98             90.000000   \n",
              "4  2700                2        389130.00             24.000000   \n",
              "\n",
              "   Situation logement  Canal production  Durée du prêt  Type client  \\\n",
              "0                   0                 0             36            0   \n",
              "1                   2                 0             36            0   \n",
              "2                   0                 0             36            0   \n",
              "3                   0                 0             36            0   \n",
              "4                   0                 0             36            0   \n",
              "\n",
              "   Statut de lemploi  Charges totales  ...  Segment  Montant échéance  \\\n",
              "0                  2         10982.51  ...        6               436   \n",
              "1                  3         10538.24  ...        5               251   \n",
              "2                  2         12708.32  ...        6              1244   \n",
              "3                  2         13303.08  ...        6              1471   \n",
              "4                  1         13785.89  ...        6              1636   \n",
              "\n",
              "   Situation familiale  Montant demandé  Taux dendettement  Taux dinteret  \\\n",
              "0                    3        310000.00           0.292398           12.9   \n",
              "1                    5        300000.00           0.254547           12.9   \n",
              "2                    5        360000.00           0.288171           12.9   \n",
              "3                    3        375501.98           0.295004           12.9   \n",
              "4                    5        389130.00           0.287206           12.9   \n",
              "\n",
              "   Région/pays de résidence  Genre  Ancienneté de logement  \\\n",
              "0                        37      1               28.004448   \n",
              "1                        13      1                0.000000   \n",
              "2                        39      1               28.004448   \n",
              "3                        17      1               28.004448   \n",
              "4                         2      1               28.004448   \n",
              "\n",
              "   Nombre d’échéance en retard  \n",
              "0                            0  \n",
              "1                            0  \n",
              "2                            0  \n",
              "3                            0  \n",
              "4                           10  \n",
              "\n",
              "[5 rows x 25 columns]"
            ],
            "text/html": [
              "\n",
              "  <div id=\"df-5b3b5863-33fd-4572-90f3-f0c5c271adf7\">\n",
              "    <div class=\"colab-df-container\">\n",
              "      <div>\n",
              "<style scoped>\n",
              "    .dataframe tbody tr th:only-of-type {\n",
              "        vertical-align: middle;\n",
              "    }\n",
              "\n",
              "    .dataframe tbody tr th {\n",
              "        vertical-align: top;\n",
              "    }\n",
              "\n",
              "    .dataframe thead th {\n",
              "        text-align: right;\n",
              "    }\n",
              "</style>\n",
              "<table border=\"1\" class=\"dataframe\">\n",
              "  <thead>\n",
              "    <tr style=\"text-align: right;\">\n",
              "      <th></th>\n",
              "      <th>id</th>\n",
              "      <th>Type de produit</th>\n",
              "      <th>Montant accepté</th>\n",
              "      <th>Ancienneté à lemploi</th>\n",
              "      <th>Situation logement</th>\n",
              "      <th>Canal production</th>\n",
              "      <th>Durée du prêt</th>\n",
              "      <th>Type client</th>\n",
              "      <th>Statut de lemploi</th>\n",
              "      <th>Charges totales</th>\n",
              "      <th>...</th>\n",
              "      <th>Segment</th>\n",
              "      <th>Montant échéance</th>\n",
              "      <th>Situation familiale</th>\n",
              "      <th>Montant demandé</th>\n",
              "      <th>Taux dendettement</th>\n",
              "      <th>Taux dinteret</th>\n",
              "      <th>Région/pays de résidence</th>\n",
              "      <th>Genre</th>\n",
              "      <th>Ancienneté de logement</th>\n",
              "      <th>Nombre d’échéance en retard</th>\n",
              "    </tr>\n",
              "  </thead>\n",
              "  <tbody>\n",
              "    <tr>\n",
              "      <th>0</th>\n",
              "      <td>5783</td>\n",
              "      <td>2</td>\n",
              "      <td>310000.00</td>\n",
              "      <td>190.000000</td>\n",
              "      <td>0</td>\n",
              "      <td>0</td>\n",
              "      <td>36</td>\n",
              "      <td>0</td>\n",
              "      <td>2</td>\n",
              "      <td>10982.51</td>\n",
              "      <td>...</td>\n",
              "      <td>6</td>\n",
              "      <td>436</td>\n",
              "      <td>3</td>\n",
              "      <td>310000.00</td>\n",
              "      <td>0.292398</td>\n",
              "      <td>12.9</td>\n",
              "      <td>37</td>\n",
              "      <td>1</td>\n",
              "      <td>28.004448</td>\n",
              "      <td>0</td>\n",
              "    </tr>\n",
              "    <tr>\n",
              "      <th>1</th>\n",
              "      <td>8456</td>\n",
              "      <td>2</td>\n",
              "      <td>300000.00</td>\n",
              "      <td>122.532435</td>\n",
              "      <td>2</td>\n",
              "      <td>0</td>\n",
              "      <td>36</td>\n",
              "      <td>0</td>\n",
              "      <td>3</td>\n",
              "      <td>10538.24</td>\n",
              "      <td>...</td>\n",
              "      <td>5</td>\n",
              "      <td>251</td>\n",
              "      <td>5</td>\n",
              "      <td>300000.00</td>\n",
              "      <td>0.254547</td>\n",
              "      <td>12.9</td>\n",
              "      <td>13</td>\n",
              "      <td>1</td>\n",
              "      <td>0.000000</td>\n",
              "      <td>0</td>\n",
              "    </tr>\n",
              "    <tr>\n",
              "      <th>2</th>\n",
              "      <td>2444</td>\n",
              "      <td>2</td>\n",
              "      <td>360000.00</td>\n",
              "      <td>132.000000</td>\n",
              "      <td>0</td>\n",
              "      <td>0</td>\n",
              "      <td>36</td>\n",
              "      <td>0</td>\n",
              "      <td>2</td>\n",
              "      <td>12708.32</td>\n",
              "      <td>...</td>\n",
              "      <td>6</td>\n",
              "      <td>1244</td>\n",
              "      <td>5</td>\n",
              "      <td>360000.00</td>\n",
              "      <td>0.288171</td>\n",
              "      <td>12.9</td>\n",
              "      <td>39</td>\n",
              "      <td>1</td>\n",
              "      <td>28.004448</td>\n",
              "      <td>0</td>\n",
              "    </tr>\n",
              "    <tr>\n",
              "      <th>3</th>\n",
              "      <td>4928</td>\n",
              "      <td>2</td>\n",
              "      <td>375501.98</td>\n",
              "      <td>90.000000</td>\n",
              "      <td>0</td>\n",
              "      <td>0</td>\n",
              "      <td>36</td>\n",
              "      <td>0</td>\n",
              "      <td>2</td>\n",
              "      <td>13303.08</td>\n",
              "      <td>...</td>\n",
              "      <td>6</td>\n",
              "      <td>1471</td>\n",
              "      <td>3</td>\n",
              "      <td>375501.98</td>\n",
              "      <td>0.295004</td>\n",
              "      <td>12.9</td>\n",
              "      <td>17</td>\n",
              "      <td>1</td>\n",
              "      <td>28.004448</td>\n",
              "      <td>0</td>\n",
              "    </tr>\n",
              "    <tr>\n",
              "      <th>4</th>\n",
              "      <td>2700</td>\n",
              "      <td>2</td>\n",
              "      <td>389130.00</td>\n",
              "      <td>24.000000</td>\n",
              "      <td>0</td>\n",
              "      <td>0</td>\n",
              "      <td>36</td>\n",
              "      <td>0</td>\n",
              "      <td>1</td>\n",
              "      <td>13785.89</td>\n",
              "      <td>...</td>\n",
              "      <td>6</td>\n",
              "      <td>1636</td>\n",
              "      <td>5</td>\n",
              "      <td>389130.00</td>\n",
              "      <td>0.287206</td>\n",
              "      <td>12.9</td>\n",
              "      <td>2</td>\n",
              "      <td>1</td>\n",
              "      <td>28.004448</td>\n",
              "      <td>10</td>\n",
              "    </tr>\n",
              "  </tbody>\n",
              "</table>\n",
              "<p>5 rows × 25 columns</p>\n",
              "</div>\n",
              "      <button class=\"colab-df-convert\" onclick=\"convertToInteractive('df-5b3b5863-33fd-4572-90f3-f0c5c271adf7')\"\n",
              "              title=\"Convert this dataframe to an interactive table.\"\n",
              "              style=\"display:none;\">\n",
              "        \n",
              "  <svg xmlns=\"http://www.w3.org/2000/svg\" height=\"24px\"viewBox=\"0 0 24 24\"\n",
              "       width=\"24px\">\n",
              "    <path d=\"M0 0h24v24H0V0z\" fill=\"none\"/>\n",
              "    <path d=\"M18.56 5.44l.94 2.06.94-2.06 2.06-.94-2.06-.94-.94-2.06-.94 2.06-2.06.94zm-11 1L8.5 8.5l.94-2.06 2.06-.94-2.06-.94L8.5 2.5l-.94 2.06-2.06.94zm10 10l.94 2.06.94-2.06 2.06-.94-2.06-.94-.94-2.06-.94 2.06-2.06.94z\"/><path d=\"M17.41 7.96l-1.37-1.37c-.4-.4-.92-.59-1.43-.59-.52 0-1.04.2-1.43.59L10.3 9.45l-7.72 7.72c-.78.78-.78 2.05 0 2.83L4 21.41c.39.39.9.59 1.41.59.51 0 1.02-.2 1.41-.59l7.78-7.78 2.81-2.81c.8-.78.8-2.07 0-2.86zM5.41 20L4 18.59l7.72-7.72 1.47 1.35L5.41 20z\"/>\n",
              "  </svg>\n",
              "      </button>\n",
              "      \n",
              "  <style>\n",
              "    .colab-df-container {\n",
              "      display:flex;\n",
              "      flex-wrap:wrap;\n",
              "      gap: 12px;\n",
              "    }\n",
              "\n",
              "    .colab-df-convert {\n",
              "      background-color: #E8F0FE;\n",
              "      border: none;\n",
              "      border-radius: 50%;\n",
              "      cursor: pointer;\n",
              "      display: none;\n",
              "      fill: #1967D2;\n",
              "      height: 32px;\n",
              "      padding: 0 0 0 0;\n",
              "      width: 32px;\n",
              "    }\n",
              "\n",
              "    .colab-df-convert:hover {\n",
              "      background-color: #E2EBFA;\n",
              "      box-shadow: 0px 1px 2px rgba(60, 64, 67, 0.3), 0px 1px 3px 1px rgba(60, 64, 67, 0.15);\n",
              "      fill: #174EA6;\n",
              "    }\n",
              "\n",
              "    [theme=dark] .colab-df-convert {\n",
              "      background-color: #3B4455;\n",
              "      fill: #D2E3FC;\n",
              "    }\n",
              "\n",
              "    [theme=dark] .colab-df-convert:hover {\n",
              "      background-color: #434B5C;\n",
              "      box-shadow: 0px 1px 3px 1px rgba(0, 0, 0, 0.15);\n",
              "      filter: drop-shadow(0px 1px 2px rgba(0, 0, 0, 0.3));\n",
              "      fill: #FFFFFF;\n",
              "    }\n",
              "  </style>\n",
              "\n",
              "      <script>\n",
              "        const buttonEl =\n",
              "          document.querySelector('#df-5b3b5863-33fd-4572-90f3-f0c5c271adf7 button.colab-df-convert');\n",
              "        buttonEl.style.display =\n",
              "          google.colab.kernel.accessAllowed ? 'block' : 'none';\n",
              "\n",
              "        async function convertToInteractive(key) {\n",
              "          const element = document.querySelector('#df-5b3b5863-33fd-4572-90f3-f0c5c271adf7');\n",
              "          const dataTable =\n",
              "            await google.colab.kernel.invokeFunction('convertToInteractive',\n",
              "                                                     [key], {});\n",
              "          if (!dataTable) return;\n",
              "\n",
              "          const docLinkHtml = 'Like what you see? Visit the ' +\n",
              "            '<a target=\"_blank\" href=https://colab.research.google.com/notebooks/data_table.ipynb>data table notebook</a>'\n",
              "            + ' to learn more about interactive tables.';\n",
              "          element.innerHTML = '';\n",
              "          dataTable['output_type'] = 'display_data';\n",
              "          await google.colab.output.renderOutput(dataTable, element);\n",
              "          const docLink = document.createElement('div');\n",
              "          docLink.innerHTML = docLinkHtml;\n",
              "          element.appendChild(docLink);\n",
              "        }\n",
              "      </script>\n",
              "    </div>\n",
              "  </div>\n",
              "  "
            ]
          },
          "metadata": {},
          "execution_count": 146
        }
      ]
    },
    {
      "cell_type": "code",
      "source": [
        "\n",
        "#drop les moins importantes\n",
        "\n",
        "columns = ['Genre',\n",
        "'Revenu totaux' ,\n",
        "'Montant échéance','id' ]\n",
        "\n",
        "df.drop(columns, axis=1 ,inplace = True )\n",
        "dt.drop(columns, axis=1 ,inplace = True )"
      ],
      "metadata": {
        "id": "Mxzgv3O0p9iS"
      },
      "execution_count": null,
      "outputs": []
    },
    {
      "cell_type": "code",
      "source": [
        "df.head()"
      ],
      "metadata": {
        "colab": {
          "base_uri": "https://localhost:8080/"
        },
        "id": "zDSS310jcdap",
        "outputId": "112acfac-6f4c-41e6-b65a-23bce1cb0779"
      },
      "execution_count": null,
      "outputs": [
        {
          "output_type": "execute_result",
          "data": {
            "text/plain": [
              "   Type de produit  Montant accepté  Ancienneté à lemploi  Situation logement  \\\n",
              "0                2        310000.00            190.000000                   0   \n",
              "1                2        300000.00            122.532435                   2   \n",
              "2                2        360000.00            132.000000                   0   \n",
              "3                2        375501.98             90.000000                   0   \n",
              "4                2        389130.00             24.000000                   0   \n",
              "\n",
              "   Canal production  Durée du prêt  Type client  Statut de lemploi  \\\n",
              "0                 0             36            0                  2   \n",
              "1                 0             36            0                  3   \n",
              "2                 0             36            0                  2   \n",
              "3                 0             36            0                  2   \n",
              "4                 0             36            0                  1   \n",
              "\n",
              "   Charges totales  Existence dun 2ème inerlocuteur  ...  Secteur dactivité  \\\n",
              "0         10982.51                                3  ...                 10   \n",
              "1         10538.24                                3  ...                 21   \n",
              "2         12708.32                                3  ...                 18   \n",
              "3         13303.08                                3  ...                 10   \n",
              "4         13785.89                                3  ...                  5   \n",
              "\n",
              "   Salaire net mensuel.1  Segment  Situation familiale  Montant demandé  \\\n",
              "0                   2472        6                    3        310000.00   \n",
              "1                   3454        5                    5        300000.00   \n",
              "2                   4093        6                    5        360000.00   \n",
              "3                   4310        6                    3        375501.98   \n",
              "4                   4856        6                    5        389130.00   \n",
              "\n",
              "   Taux dendettement  Taux dinteret  Région/pays de résidence  \\\n",
              "0           0.292398           12.9                        37   \n",
              "1           0.254547           12.9                        13   \n",
              "2           0.288171           12.9                        39   \n",
              "3           0.295004           12.9                        17   \n",
              "4           0.287206           12.9                         2   \n",
              "\n",
              "   Ancienneté de logement  Nombre d’échéance en retard  \n",
              "0               28.004448                            0  \n",
              "1                0.000000                            0  \n",
              "2               28.004448                            0  \n",
              "3               28.004448                            0  \n",
              "4               28.004448                           10  \n",
              "\n",
              "[5 rows x 21 columns]"
            ],
            "text/html": [
              "\n",
              "  <div id=\"df-479cba45-54c6-4dc9-a65d-9f89ef55d471\">\n",
              "    <div class=\"colab-df-container\">\n",
              "      <div>\n",
              "<style scoped>\n",
              "    .dataframe tbody tr th:only-of-type {\n",
              "        vertical-align: middle;\n",
              "    }\n",
              "\n",
              "    .dataframe tbody tr th {\n",
              "        vertical-align: top;\n",
              "    }\n",
              "\n",
              "    .dataframe thead th {\n",
              "        text-align: right;\n",
              "    }\n",
              "</style>\n",
              "<table border=\"1\" class=\"dataframe\">\n",
              "  <thead>\n",
              "    <tr style=\"text-align: right;\">\n",
              "      <th></th>\n",
              "      <th>Type de produit</th>\n",
              "      <th>Montant accepté</th>\n",
              "      <th>Ancienneté à lemploi</th>\n",
              "      <th>Situation logement</th>\n",
              "      <th>Canal production</th>\n",
              "      <th>Durée du prêt</th>\n",
              "      <th>Type client</th>\n",
              "      <th>Statut de lemploi</th>\n",
              "      <th>Charges totales</th>\n",
              "      <th>Existence dun 2ème inerlocuteur</th>\n",
              "      <th>...</th>\n",
              "      <th>Secteur dactivité</th>\n",
              "      <th>Salaire net mensuel.1</th>\n",
              "      <th>Segment</th>\n",
              "      <th>Situation familiale</th>\n",
              "      <th>Montant demandé</th>\n",
              "      <th>Taux dendettement</th>\n",
              "      <th>Taux dinteret</th>\n",
              "      <th>Région/pays de résidence</th>\n",
              "      <th>Ancienneté de logement</th>\n",
              "      <th>Nombre d’échéance en retard</th>\n",
              "    </tr>\n",
              "  </thead>\n",
              "  <tbody>\n",
              "    <tr>\n",
              "      <th>0</th>\n",
              "      <td>2</td>\n",
              "      <td>310000.00</td>\n",
              "      <td>190.000000</td>\n",
              "      <td>0</td>\n",
              "      <td>0</td>\n",
              "      <td>36</td>\n",
              "      <td>0</td>\n",
              "      <td>2</td>\n",
              "      <td>10982.51</td>\n",
              "      <td>3</td>\n",
              "      <td>...</td>\n",
              "      <td>10</td>\n",
              "      <td>2472</td>\n",
              "      <td>6</td>\n",
              "      <td>3</td>\n",
              "      <td>310000.00</td>\n",
              "      <td>0.292398</td>\n",
              "      <td>12.9</td>\n",
              "      <td>37</td>\n",
              "      <td>28.004448</td>\n",
              "      <td>0</td>\n",
              "    </tr>\n",
              "    <tr>\n",
              "      <th>1</th>\n",
              "      <td>2</td>\n",
              "      <td>300000.00</td>\n",
              "      <td>122.532435</td>\n",
              "      <td>2</td>\n",
              "      <td>0</td>\n",
              "      <td>36</td>\n",
              "      <td>0</td>\n",
              "      <td>3</td>\n",
              "      <td>10538.24</td>\n",
              "      <td>3</td>\n",
              "      <td>...</td>\n",
              "      <td>21</td>\n",
              "      <td>3454</td>\n",
              "      <td>5</td>\n",
              "      <td>5</td>\n",
              "      <td>300000.00</td>\n",
              "      <td>0.254547</td>\n",
              "      <td>12.9</td>\n",
              "      <td>13</td>\n",
              "      <td>0.000000</td>\n",
              "      <td>0</td>\n",
              "    </tr>\n",
              "    <tr>\n",
              "      <th>2</th>\n",
              "      <td>2</td>\n",
              "      <td>360000.00</td>\n",
              "      <td>132.000000</td>\n",
              "      <td>0</td>\n",
              "      <td>0</td>\n",
              "      <td>36</td>\n",
              "      <td>0</td>\n",
              "      <td>2</td>\n",
              "      <td>12708.32</td>\n",
              "      <td>3</td>\n",
              "      <td>...</td>\n",
              "      <td>18</td>\n",
              "      <td>4093</td>\n",
              "      <td>6</td>\n",
              "      <td>5</td>\n",
              "      <td>360000.00</td>\n",
              "      <td>0.288171</td>\n",
              "      <td>12.9</td>\n",
              "      <td>39</td>\n",
              "      <td>28.004448</td>\n",
              "      <td>0</td>\n",
              "    </tr>\n",
              "    <tr>\n",
              "      <th>3</th>\n",
              "      <td>2</td>\n",
              "      <td>375501.98</td>\n",
              "      <td>90.000000</td>\n",
              "      <td>0</td>\n",
              "      <td>0</td>\n",
              "      <td>36</td>\n",
              "      <td>0</td>\n",
              "      <td>2</td>\n",
              "      <td>13303.08</td>\n",
              "      <td>3</td>\n",
              "      <td>...</td>\n",
              "      <td>10</td>\n",
              "      <td>4310</td>\n",
              "      <td>6</td>\n",
              "      <td>3</td>\n",
              "      <td>375501.98</td>\n",
              "      <td>0.295004</td>\n",
              "      <td>12.9</td>\n",
              "      <td>17</td>\n",
              "      <td>28.004448</td>\n",
              "      <td>0</td>\n",
              "    </tr>\n",
              "    <tr>\n",
              "      <th>4</th>\n",
              "      <td>2</td>\n",
              "      <td>389130.00</td>\n",
              "      <td>24.000000</td>\n",
              "      <td>0</td>\n",
              "      <td>0</td>\n",
              "      <td>36</td>\n",
              "      <td>0</td>\n",
              "      <td>1</td>\n",
              "      <td>13785.89</td>\n",
              "      <td>3</td>\n",
              "      <td>...</td>\n",
              "      <td>5</td>\n",
              "      <td>4856</td>\n",
              "      <td>6</td>\n",
              "      <td>5</td>\n",
              "      <td>389130.00</td>\n",
              "      <td>0.287206</td>\n",
              "      <td>12.9</td>\n",
              "      <td>2</td>\n",
              "      <td>28.004448</td>\n",
              "      <td>10</td>\n",
              "    </tr>\n",
              "  </tbody>\n",
              "</table>\n",
              "<p>5 rows × 21 columns</p>\n",
              "</div>\n",
              "      <button class=\"colab-df-convert\" onclick=\"convertToInteractive('df-479cba45-54c6-4dc9-a65d-9f89ef55d471')\"\n",
              "              title=\"Convert this dataframe to an interactive table.\"\n",
              "              style=\"display:none;\">\n",
              "        \n",
              "  <svg xmlns=\"http://www.w3.org/2000/svg\" height=\"24px\"viewBox=\"0 0 24 24\"\n",
              "       width=\"24px\">\n",
              "    <path d=\"M0 0h24v24H0V0z\" fill=\"none\"/>\n",
              "    <path d=\"M18.56 5.44l.94 2.06.94-2.06 2.06-.94-2.06-.94-.94-2.06-.94 2.06-2.06.94zm-11 1L8.5 8.5l.94-2.06 2.06-.94-2.06-.94L8.5 2.5l-.94 2.06-2.06.94zm10 10l.94 2.06.94-2.06 2.06-.94-2.06-.94-.94-2.06-.94 2.06-2.06.94z\"/><path d=\"M17.41 7.96l-1.37-1.37c-.4-.4-.92-.59-1.43-.59-.52 0-1.04.2-1.43.59L10.3 9.45l-7.72 7.72c-.78.78-.78 2.05 0 2.83L4 21.41c.39.39.9.59 1.41.59.51 0 1.02-.2 1.41-.59l7.78-7.78 2.81-2.81c.8-.78.8-2.07 0-2.86zM5.41 20L4 18.59l7.72-7.72 1.47 1.35L5.41 20z\"/>\n",
              "  </svg>\n",
              "      </button>\n",
              "      \n",
              "  <style>\n",
              "    .colab-df-container {\n",
              "      display:flex;\n",
              "      flex-wrap:wrap;\n",
              "      gap: 12px;\n",
              "    }\n",
              "\n",
              "    .colab-df-convert {\n",
              "      background-color: #E8F0FE;\n",
              "      border: none;\n",
              "      border-radius: 50%;\n",
              "      cursor: pointer;\n",
              "      display: none;\n",
              "      fill: #1967D2;\n",
              "      height: 32px;\n",
              "      padding: 0 0 0 0;\n",
              "      width: 32px;\n",
              "    }\n",
              "\n",
              "    .colab-df-convert:hover {\n",
              "      background-color: #E2EBFA;\n",
              "      box-shadow: 0px 1px 2px rgba(60, 64, 67, 0.3), 0px 1px 3px 1px rgba(60, 64, 67, 0.15);\n",
              "      fill: #174EA6;\n",
              "    }\n",
              "\n",
              "    [theme=dark] .colab-df-convert {\n",
              "      background-color: #3B4455;\n",
              "      fill: #D2E3FC;\n",
              "    }\n",
              "\n",
              "    [theme=dark] .colab-df-convert:hover {\n",
              "      background-color: #434B5C;\n",
              "      box-shadow: 0px 1px 3px 1px rgba(0, 0, 0, 0.15);\n",
              "      filter: drop-shadow(0px 1px 2px rgba(0, 0, 0, 0.3));\n",
              "      fill: #FFFFFF;\n",
              "    }\n",
              "  </style>\n",
              "\n",
              "      <script>\n",
              "        const buttonEl =\n",
              "          document.querySelector('#df-479cba45-54c6-4dc9-a65d-9f89ef55d471 button.colab-df-convert');\n",
              "        buttonEl.style.display =\n",
              "          google.colab.kernel.accessAllowed ? 'block' : 'none';\n",
              "\n",
              "        async function convertToInteractive(key) {\n",
              "          const element = document.querySelector('#df-479cba45-54c6-4dc9-a65d-9f89ef55d471');\n",
              "          const dataTable =\n",
              "            await google.colab.kernel.invokeFunction('convertToInteractive',\n",
              "                                                     [key], {});\n",
              "          if (!dataTable) return;\n",
              "\n",
              "          const docLinkHtml = 'Like what you see? Visit the ' +\n",
              "            '<a target=\"_blank\" href=https://colab.research.google.com/notebooks/data_table.ipynb>data table notebook</a>'\n",
              "            + ' to learn more about interactive tables.';\n",
              "          element.innerHTML = '';\n",
              "          dataTable['output_type'] = 'display_data';\n",
              "          await google.colab.output.renderOutput(dataTable, element);\n",
              "          const docLink = document.createElement('div');\n",
              "          docLink.innerHTML = docLinkHtml;\n",
              "          element.appendChild(docLink);\n",
              "        }\n",
              "      </script>\n",
              "    </div>\n",
              "  </div>\n",
              "  "
            ]
          },
          "metadata": {},
          "execution_count": 148
        }
      ]
    },
    {
      "cell_type": "code",
      "source": [
        "\n",
        "#X=df.drop('Nombre d’échéance en retard', axis=1)\n",
        "X=df[['Taux dendettement', 'Salaire net mensuel.1', 'Ancienneté à lemploi',\n",
        "       'Age', 'Région/pays de résidence', 'Charges totales', 'Montant accepté',\n",
        "       'Montant demandé', 'Secteur dactivité', 'Durée du prêt',\n",
        "       'Ancienneté de logement', 'Statut de lemploi', 'Situation familiale',\n",
        "       'Canal production', 'Situation logement', 'Taux dinteret']]\n",
        "#X=df[['Segment']]\n",
        "Y=df['Nombre d’échéance en retard']\n",
        "\n"
      ],
      "metadata": {
        "id": "iYRIXcbdGHRF"
      },
      "execution_count": null,
      "outputs": []
    },
    {
      "cell_type": "code",
      "source": [
        "X_train, X_test, Y_train, Y_test = train_test_split(X,Y , test_size=0.3, random_state=42)\n"
      ],
      "metadata": {
        "id": "LhnV8EGZHRY3"
      },
      "execution_count": null,
      "outputs": []
    },
    {
      "cell_type": "markdown",
      "source": [
        "##model1"
      ],
      "metadata": {
        "id": "SaC043ESiJYs"
      }
    },
    {
      "cell_type": "code",
      "source": [
        "from sklearn.ensemble import RandomForestRegressor\n",
        "from sklearn.model_selection import train_test_split\n",
        "from sklearn.metrics import accuracy_score\n",
        "from sklearn.linear_model import LinearRegression\n",
        "\n",
        "\n",
        "\n"
      ],
      "metadata": {
        "id": "FGIertF6IywK"
      },
      "execution_count": null,
      "outputs": []
    },
    {
      "cell_type": "code",
      "source": [
        "\n",
        "# Initialiser le modèle et l'entraîner\n",
        "model = LinearRegression()\n",
        "model.fit(X_train, Y_train)\n",
        "\n",
        "\n",
        "\n"
      ],
      "metadata": {
        "colab": {
          "base_uri": "https://localhost:8080/",
          "height": 74
        },
        "id": "AyIb0CJBJF-Z",
        "outputId": "63f1ee7c-ca8b-4b4d-c034-49026d11b581"
      },
      "execution_count": null,
      "outputs": [
        {
          "output_type": "execute_result",
          "data": {
            "text/plain": [
              "LinearRegression()"
            ],
            "text/html": [
              "<style>#sk-container-id-1 {color: black;background-color: white;}#sk-container-id-1 pre{padding: 0;}#sk-container-id-1 div.sk-toggleable {background-color: white;}#sk-container-id-1 label.sk-toggleable__label {cursor: pointer;display: block;width: 100%;margin-bottom: 0;padding: 0.3em;box-sizing: border-box;text-align: center;}#sk-container-id-1 label.sk-toggleable__label-arrow:before {content: \"▸\";float: left;margin-right: 0.25em;color: #696969;}#sk-container-id-1 label.sk-toggleable__label-arrow:hover:before {color: black;}#sk-container-id-1 div.sk-estimator:hover label.sk-toggleable__label-arrow:before {color: black;}#sk-container-id-1 div.sk-toggleable__content {max-height: 0;max-width: 0;overflow: hidden;text-align: left;background-color: #f0f8ff;}#sk-container-id-1 div.sk-toggleable__content pre {margin: 0.2em;color: black;border-radius: 0.25em;background-color: #f0f8ff;}#sk-container-id-1 input.sk-toggleable__control:checked~div.sk-toggleable__content {max-height: 200px;max-width: 100%;overflow: auto;}#sk-container-id-1 input.sk-toggleable__control:checked~label.sk-toggleable__label-arrow:before {content: \"▾\";}#sk-container-id-1 div.sk-estimator input.sk-toggleable__control:checked~label.sk-toggleable__label {background-color: #d4ebff;}#sk-container-id-1 div.sk-label input.sk-toggleable__control:checked~label.sk-toggleable__label {background-color: #d4ebff;}#sk-container-id-1 input.sk-hidden--visually {border: 0;clip: rect(1px 1px 1px 1px);clip: rect(1px, 1px, 1px, 1px);height: 1px;margin: -1px;overflow: hidden;padding: 0;position: absolute;width: 1px;}#sk-container-id-1 div.sk-estimator {font-family: monospace;background-color: #f0f8ff;border: 1px dotted black;border-radius: 0.25em;box-sizing: border-box;margin-bottom: 0.5em;}#sk-container-id-1 div.sk-estimator:hover {background-color: #d4ebff;}#sk-container-id-1 div.sk-parallel-item::after {content: \"\";width: 100%;border-bottom: 1px solid gray;flex-grow: 1;}#sk-container-id-1 div.sk-label:hover label.sk-toggleable__label {background-color: #d4ebff;}#sk-container-id-1 div.sk-serial::before {content: \"\";position: absolute;border-left: 1px solid gray;box-sizing: border-box;top: 0;bottom: 0;left: 50%;z-index: 0;}#sk-container-id-1 div.sk-serial {display: flex;flex-direction: column;align-items: center;background-color: white;padding-right: 0.2em;padding-left: 0.2em;position: relative;}#sk-container-id-1 div.sk-item {position: relative;z-index: 1;}#sk-container-id-1 div.sk-parallel {display: flex;align-items: stretch;justify-content: center;background-color: white;position: relative;}#sk-container-id-1 div.sk-item::before, #sk-container-id-1 div.sk-parallel-item::before {content: \"\";position: absolute;border-left: 1px solid gray;box-sizing: border-box;top: 0;bottom: 0;left: 50%;z-index: -1;}#sk-container-id-1 div.sk-parallel-item {display: flex;flex-direction: column;z-index: 1;position: relative;background-color: white;}#sk-container-id-1 div.sk-parallel-item:first-child::after {align-self: flex-end;width: 50%;}#sk-container-id-1 div.sk-parallel-item:last-child::after {align-self: flex-start;width: 50%;}#sk-container-id-1 div.sk-parallel-item:only-child::after {width: 0;}#sk-container-id-1 div.sk-dashed-wrapped {border: 1px dashed gray;margin: 0 0.4em 0.5em 0.4em;box-sizing: border-box;padding-bottom: 0.4em;background-color: white;}#sk-container-id-1 div.sk-label label {font-family: monospace;font-weight: bold;display: inline-block;line-height: 1.2em;}#sk-container-id-1 div.sk-label-container {text-align: center;}#sk-container-id-1 div.sk-container {/* jupyter's `normalize.less` sets `[hidden] { display: none; }` but bootstrap.min.css set `[hidden] { display: none !important; }` so we also need the `!important` here to be able to override the default hidden behavior on the sphinx rendered scikit-learn.org. See: https://github.com/scikit-learn/scikit-learn/issues/21755 */display: inline-block !important;position: relative;}#sk-container-id-1 div.sk-text-repr-fallback {display: none;}</style><div id=\"sk-container-id-1\" class=\"sk-top-container\"><div class=\"sk-text-repr-fallback\"><pre>LinearRegression()</pre><b>In a Jupyter environment, please rerun this cell to show the HTML representation or trust the notebook. <br />On GitHub, the HTML representation is unable to render, please try loading this page with nbviewer.org.</b></div><div class=\"sk-container\" hidden><div class=\"sk-item\"><div class=\"sk-estimator sk-toggleable\"><input class=\"sk-toggleable__control sk-hidden--visually\" id=\"sk-estimator-id-1\" type=\"checkbox\" checked><label for=\"sk-estimator-id-1\" class=\"sk-toggleable__label sk-toggleable__label-arrow\">LinearRegression</label><div class=\"sk-toggleable__content\"><pre>LinearRegression()</pre></div></div></div></div></div>"
            ]
          },
          "metadata": {},
          "execution_count": 184
        }
      ]
    },
    {
      "cell_type": "code",
      "source": [
        "\n",
        "y_pred = model.predict(X_test)\n",
        "\n",
        "print(y_pred)  # Affiche les valeurs prédites\n"
      ],
      "metadata": {
        "colab": {
          "base_uri": "https://localhost:8080/"
        },
        "id": "wVXPvYeLKp0E",
        "outputId": "22a0cc2d-3878-46f2-880d-c5874bda4dcf"
      },
      "execution_count": null,
      "outputs": [
        {
          "output_type": "stream",
          "name": "stdout",
          "text": [
            "[4.79050242 5.12717499 2.78826861 ... 5.49445417 2.78826861 4.51504304]\n"
          ]
        }
      ]
    },
    {
      "cell_type": "code",
      "source": [
        "from sklearn.linear_model import LinearRegression\n",
        "from sklearn.metrics import mean_squared_error, r2_score\n",
        "from sklearn.model_selection import train_test_split\n",
        "import numpy as np"
      ],
      "metadata": {
        "id": "qFGcaB2xJICJ"
      },
      "execution_count": null,
      "outputs": []
    },
    {
      "cell_type": "code",
      "source": [
        "mse = mean_squared_error(Y_test, y_pred)\n",
        "rmse = np.sqrt(mse)\n",
        "r2 = r2_score(Y_test, y_pred)\n",
        "\n",
        "print(\"Mean Squared Error (MSE):\", mse)\n",
        "print(\"Root Mean Squared Error (RMSE):\", rmse)\n",
        "print(\"R-squared (R2) Score:\", r2)"
      ],
      "metadata": {
        "colab": {
          "base_uri": "https://localhost:8080/"
        },
        "id": "7KBWcnKFLL0i",
        "outputId": "964bd1c0-d59d-416c-f73b-a59edcc4bb4a"
      },
      "execution_count": null,
      "outputs": [
        {
          "output_type": "stream",
          "name": "stdout",
          "text": [
            "Mean Squared Error (MSE): 51.85661764966882\n",
            "Root Mean Squared Error (RMSE): 7.201153910983213\n",
            "R-squared (R2) Score: 0.028314819786701362\n"
          ]
        }
      ]
    },
    {
      "cell_type": "code",
      "source": [
        "y_pred_sur_test = model.predict(dt)\n"
      ],
      "metadata": {
        "id": "oka1MkMBLeZF",
        "colab": {
          "base_uri": "https://localhost:8080/",
          "height": 433
        },
        "outputId": "143eda93-6d1c-4ad3-c10f-7d3c3f32948d"
      },
      "execution_count": null,
      "outputs": [
        {
          "output_type": "error",
          "ename": "ValueError",
          "evalue": "ignored",
          "traceback": [
            "\u001b[0;31m---------------------------------------------------------------------------\u001b[0m",
            "\u001b[0;31mValueError\u001b[0m                                Traceback (most recent call last)",
            "\u001b[0;32m<ipython-input-188-66ecb5134104>\u001b[0m in \u001b[0;36m<cell line: 1>\u001b[0;34m()\u001b[0m\n\u001b[0;32m----> 1\u001b[0;31m \u001b[0my_pred_sur_test\u001b[0m \u001b[0;34m=\u001b[0m \u001b[0mmodel\u001b[0m\u001b[0;34m.\u001b[0m\u001b[0mpredict\u001b[0m\u001b[0;34m(\u001b[0m\u001b[0mdt\u001b[0m\u001b[0;34m)\u001b[0m\u001b[0;34m\u001b[0m\u001b[0;34m\u001b[0m\u001b[0m\n\u001b[0m",
            "\u001b[0;32m/usr/local/lib/python3.10/dist-packages/sklearn/linear_model/_base.py\u001b[0m in \u001b[0;36mpredict\u001b[0;34m(self, X)\u001b[0m\n\u001b[1;32m    352\u001b[0m             \u001b[0mReturns\u001b[0m \u001b[0mpredicted\u001b[0m \u001b[0mvalues\u001b[0m\u001b[0;34m.\u001b[0m\u001b[0;34m\u001b[0m\u001b[0;34m\u001b[0m\u001b[0m\n\u001b[1;32m    353\u001b[0m         \"\"\"\n\u001b[0;32m--> 354\u001b[0;31m         \u001b[0;32mreturn\u001b[0m \u001b[0mself\u001b[0m\u001b[0;34m.\u001b[0m\u001b[0m_decision_function\u001b[0m\u001b[0;34m(\u001b[0m\u001b[0mX\u001b[0m\u001b[0;34m)\u001b[0m\u001b[0;34m\u001b[0m\u001b[0;34m\u001b[0m\u001b[0m\n\u001b[0m\u001b[1;32m    355\u001b[0m \u001b[0;34m\u001b[0m\u001b[0m\n\u001b[1;32m    356\u001b[0m     \u001b[0;32mdef\u001b[0m \u001b[0m_set_intercept\u001b[0m\u001b[0;34m(\u001b[0m\u001b[0mself\u001b[0m\u001b[0;34m,\u001b[0m \u001b[0mX_offset\u001b[0m\u001b[0;34m,\u001b[0m \u001b[0my_offset\u001b[0m\u001b[0;34m,\u001b[0m \u001b[0mX_scale\u001b[0m\u001b[0;34m)\u001b[0m\u001b[0;34m:\u001b[0m\u001b[0;34m\u001b[0m\u001b[0;34m\u001b[0m\u001b[0m\n",
            "\u001b[0;32m/usr/local/lib/python3.10/dist-packages/sklearn/linear_model/_base.py\u001b[0m in \u001b[0;36m_decision_function\u001b[0;34m(self, X)\u001b[0m\n\u001b[1;32m    335\u001b[0m         \u001b[0mcheck_is_fitted\u001b[0m\u001b[0;34m(\u001b[0m\u001b[0mself\u001b[0m\u001b[0;34m)\u001b[0m\u001b[0;34m\u001b[0m\u001b[0;34m\u001b[0m\u001b[0m\n\u001b[1;32m    336\u001b[0m \u001b[0;34m\u001b[0m\u001b[0m\n\u001b[0;32m--> 337\u001b[0;31m         \u001b[0mX\u001b[0m \u001b[0;34m=\u001b[0m \u001b[0mself\u001b[0m\u001b[0;34m.\u001b[0m\u001b[0m_validate_data\u001b[0m\u001b[0;34m(\u001b[0m\u001b[0mX\u001b[0m\u001b[0;34m,\u001b[0m \u001b[0maccept_sparse\u001b[0m\u001b[0;34m=\u001b[0m\u001b[0;34m[\u001b[0m\u001b[0;34m\"csr\"\u001b[0m\u001b[0;34m,\u001b[0m \u001b[0;34m\"csc\"\u001b[0m\u001b[0;34m,\u001b[0m \u001b[0;34m\"coo\"\u001b[0m\u001b[0;34m]\u001b[0m\u001b[0;34m,\u001b[0m \u001b[0mreset\u001b[0m\u001b[0;34m=\u001b[0m\u001b[0;32mFalse\u001b[0m\u001b[0;34m)\u001b[0m\u001b[0;34m\u001b[0m\u001b[0;34m\u001b[0m\u001b[0m\n\u001b[0m\u001b[1;32m    338\u001b[0m         \u001b[0;32mreturn\u001b[0m \u001b[0msafe_sparse_dot\u001b[0m\u001b[0;34m(\u001b[0m\u001b[0mX\u001b[0m\u001b[0;34m,\u001b[0m \u001b[0mself\u001b[0m\u001b[0;34m.\u001b[0m\u001b[0mcoef_\u001b[0m\u001b[0;34m.\u001b[0m\u001b[0mT\u001b[0m\u001b[0;34m,\u001b[0m \u001b[0mdense_output\u001b[0m\u001b[0;34m=\u001b[0m\u001b[0;32mTrue\u001b[0m\u001b[0;34m)\u001b[0m \u001b[0;34m+\u001b[0m \u001b[0mself\u001b[0m\u001b[0;34m.\u001b[0m\u001b[0mintercept_\u001b[0m\u001b[0;34m\u001b[0m\u001b[0;34m\u001b[0m\u001b[0m\n\u001b[1;32m    339\u001b[0m \u001b[0;34m\u001b[0m\u001b[0m\n",
            "\u001b[0;32m/usr/local/lib/python3.10/dist-packages/sklearn/base.py\u001b[0m in \u001b[0;36m_validate_data\u001b[0;34m(self, X, y, reset, validate_separately, **check_params)\u001b[0m\n\u001b[1;32m    546\u001b[0m             \u001b[0mvalidated\u001b[0m\u001b[0;34m.\u001b[0m\u001b[0;34m\u001b[0m\u001b[0;34m\u001b[0m\u001b[0m\n\u001b[1;32m    547\u001b[0m         \"\"\"\n\u001b[0;32m--> 548\u001b[0;31m         \u001b[0mself\u001b[0m\u001b[0;34m.\u001b[0m\u001b[0m_check_feature_names\u001b[0m\u001b[0;34m(\u001b[0m\u001b[0mX\u001b[0m\u001b[0;34m,\u001b[0m \u001b[0mreset\u001b[0m\u001b[0;34m=\u001b[0m\u001b[0mreset\u001b[0m\u001b[0;34m)\u001b[0m\u001b[0;34m\u001b[0m\u001b[0;34m\u001b[0m\u001b[0m\n\u001b[0m\u001b[1;32m    549\u001b[0m \u001b[0;34m\u001b[0m\u001b[0m\n\u001b[1;32m    550\u001b[0m         \u001b[0;32mif\u001b[0m \u001b[0my\u001b[0m \u001b[0;32mis\u001b[0m \u001b[0;32mNone\u001b[0m \u001b[0;32mand\u001b[0m \u001b[0mself\u001b[0m\u001b[0;34m.\u001b[0m\u001b[0m_get_tags\u001b[0m\u001b[0;34m(\u001b[0m\u001b[0;34m)\u001b[0m\u001b[0;34m[\u001b[0m\u001b[0;34m\"requires_y\"\u001b[0m\u001b[0;34m]\u001b[0m\u001b[0;34m:\u001b[0m\u001b[0;34m\u001b[0m\u001b[0;34m\u001b[0m\u001b[0m\n",
            "\u001b[0;32m/usr/local/lib/python3.10/dist-packages/sklearn/base.py\u001b[0m in \u001b[0;36m_check_feature_names\u001b[0;34m(self, X, reset)\u001b[0m\n\u001b[1;32m    479\u001b[0m                 )\n\u001b[1;32m    480\u001b[0m \u001b[0;34m\u001b[0m\u001b[0m\n\u001b[0;32m--> 481\u001b[0;31m             \u001b[0;32mraise\u001b[0m \u001b[0mValueError\u001b[0m\u001b[0;34m(\u001b[0m\u001b[0mmessage\u001b[0m\u001b[0;34m)\u001b[0m\u001b[0;34m\u001b[0m\u001b[0;34m\u001b[0m\u001b[0m\n\u001b[0m\u001b[1;32m    482\u001b[0m \u001b[0;34m\u001b[0m\u001b[0m\n\u001b[1;32m    483\u001b[0m     def _validate_data(\n",
            "\u001b[0;31mValueError\u001b[0m: The feature names should match those that were passed during fit.\nFeature names unseen at fit time:\n- Age\n- Ancienneté de logement\n- Canal production\n- Charges totales\n- Durée du prêt\n- ...\n"
          ]
        }
      ]
    },
    {
      "cell_type": "code",
      "source": [
        "dt2"
      ],
      "metadata": {
        "id": "4rdJe2KTLef3"
      },
      "execution_count": null,
      "outputs": []
    },
    {
      "cell_type": "code",
      "source": [
        "import pandas as pd\n",
        "\n",
        "# Liste des ID\n",
        "ids = dt2\n",
        "\n",
        "\n",
        "# Liste des résultats du test\n",
        "y_pred_sur_test\n",
        "# Créer le DataFrame\n",
        "df_sub = pd.DataFrame({'id': ids, 'Nombre d’échéance en retard': y_pred_sur_test})\n",
        "\n",
        "# Afficher le DataFrame\n",
        "print(df_sub)"
      ],
      "metadata": {
        "id": "_5Hx4vyNLYZN"
      },
      "execution_count": null,
      "outputs": []
    },
    {
      "cell_type": "code",
      "source": [
        "import pandas as pd\n",
        "file_path = '/content/uv.csv'\n",
        "df_sub.to_csv(file_path, index=False)"
      ],
      "metadata": {
        "id": "cpDonljLOQkS"
      },
      "execution_count": null,
      "outputs": []
    },
    {
      "cell_type": "markdown",
      "source": [
        "##model2"
      ],
      "metadata": {
        "id": "SJbMCLymO5GY"
      }
    },
    {
      "cell_type": "code",
      "source": [
        "from sklearn.ensemble import RandomForestRegressor\n",
        "from sklearn.model_selection import train_test_split\n",
        "from sklearn.metrics import mean_squared_error, r2_score\n",
        "\n",
        "model = RandomForestRegressor(n_estimators=300,max_depth = 10,min_samples_split=2)\n",
        "# Train the model\n",
        "model.fit(X_train, Y_train)\n",
        "\n",
        "# Make predictions on the testing set\n",
        "y_pred = model.predict(X_test)\n",
        "mse = mean_squared_error(Y_test, y_pred)\n",
        "rmse = np.sqrt(mse)\n",
        "\n",
        "print(\"Root Mean Squared Error (RMSE):\", rmse)\n",
        "\n"
      ],
      "metadata": {
        "id": "co21X2ObO76v",
        "colab": {
          "base_uri": "https://localhost:8080/"
        },
        "outputId": "dd38d1e3-da38-41ee-94c3-0844bcad8674"
      },
      "execution_count": null,
      "outputs": [
        {
          "output_type": "stream",
          "name": "stdout",
          "text": [
            "Root Mean Squared Error (RMSE): 6.777715875834879\n"
          ]
        }
      ]
    },
    {
      "cell_type": "code",
      "source": [],
      "metadata": {
        "id": "UwRlCL5uMb-M"
      },
      "execution_count": null,
      "outputs": []
    },
    {
      "cell_type": "code",
      "source": [
        "importance = model.feature_importances_"
      ],
      "metadata": {
        "id": "sy2DoFuWkrZ_"
      },
      "execution_count": null,
      "outputs": []
    },
    {
      "cell_type": "code",
      "source": [
        "sorted_indices = importance.argsort()[::-1]\n",
        "sorted_importance = importance[sorted_indices]\n",
        "sorted_features = X_train.columns[sorted_indices]\n",
        "\n",
        "for feature, importance_score in zip(sorted_features, sorted_importance):\n",
        "    print(f'{feature}: {importance_score}')"
      ],
      "metadata": {
        "id": "95TvwTYJksN7"
      },
      "execution_count": null,
      "outputs": []
    },
    {
      "cell_type": "code",
      "source": [
        "#sorted_features"
      ],
      "metadata": {
        "id": "WhiJf5YLn7IX"
      },
      "execution_count": null,
      "outputs": []
    },
    {
      "cell_type": "code",
      "source": [
        "mse = mean_squared_error(Y_test, y_pred)\n",
        "rmse = np.sqrt(mse)\n",
        "\n",
        "print(\"Root Mean Squared Error (RMSE):\", rmse)\n"
      ],
      "metadata": {
        "id": "Ie0bI09ofHa-",
        "colab": {
          "base_uri": "https://localhost:8080/"
        },
        "outputId": "9e5da175-0c27-4ae5-b114-db71e634938d"
      },
      "execution_count": null,
      "outputs": [
        {
          "output_type": "stream",
          "name": "stdout",
          "text": [
            "Root Mean Squared Error (RMSE): 6.777715875834879\n"
          ]
        }
      ]
    },
    {
      "cell_type": "code",
      "source": [
        "\n",
        "Y=dt[['Taux dendettement', 'Salaire net mensuel.1', 'Ancienneté à lemploi',\n",
        "       'Age', 'Région/pays de résidence', 'Charges totales', 'Montant accepté',\n",
        "       'Montant demandé', 'Secteur dactivité', 'Durée du prêt',\n",
        "       'Ancienneté de logement', 'Statut de lemploi', 'Situation familiale',\n",
        "       'Canal production', 'Situation logement', 'Taux dinteret']]\n",
        "#Y=df.drop('Nombre d’échéance en retard', axis=1)\n",
        "Y"
      ],
      "metadata": {
        "id": "IbzYIhX4fM9k"
      },
      "execution_count": null,
      "outputs": []
    },
    {
      "cell_type": "code",
      "source": [
        "#y_pred_resultats2 = model.predict(dt)\n",
        "y_pred_resultats2 = model.predict(Y)\n",
        "\n"
      ],
      "metadata": {
        "id": "0QRCWpcMhv-D"
      },
      "execution_count": null,
      "outputs": []
    },
    {
      "cell_type": "code",
      "source": [
        "y_pred_resultats2"
      ],
      "metadata": {
        "id": "NRPyuBZtin0x",
        "colab": {
          "base_uri": "https://localhost:8080/"
        },
        "outputId": "82c77ecc-8dca-442c-a746-0d6845c464d8"
      },
      "execution_count": null,
      "outputs": [
        {
          "output_type": "execute_result",
          "data": {
            "text/plain": [
              "array([0.3775823 , 3.29923212, 3.14343763, ..., 0.27347076, 8.07031114,\n",
              "       3.63179279])"
            ]
          },
          "metadata": {},
          "execution_count": 83
        }
      ]
    },
    {
      "cell_type": "code",
      "source": [
        "import pandas as pd\n",
        "\n",
        "# Liste des ID\n",
        "ids = dt2\n",
        "# Liste des résultats du test\n",
        "y_pred_resultats2\n",
        "\n",
        "rounded_array_2 = np.round(y_pred_resultats2)\n",
        "int_2 = rounded_array_2.astype(int)\n",
        "\n",
        "\n",
        "# Créer le DataFrame\n",
        "df_sub_2 = pd.DataFrame({'id': ids, 'Nombre d’échéance en retard': int_2})\n",
        "\n",
        "# Afficher le DataFrame\n",
        "#print(df_sub_2)\n",
        "#print(y_pred_resultats2)\n",
        "\n",
        "\n",
        "print(df_sub_2)\n",
        "\n",
        "rounded_array_2 = np.round(y_pred_resultats2)\n",
        "int_2 = rounded_array_2.astype(int)\n",
        "#print(int_2)\n",
        "#print(rounded_array_2)\n"
      ],
      "metadata": {
        "id": "G1nS7SR2PZKH",
        "colab": {
          "base_uri": "https://localhost:8080/"
        },
        "outputId": "a013d2d5-efee-4c63-86db-8cad4a434cab"
      },
      "execution_count": null,
      "outputs": [
        {
          "output_type": "stream",
          "name": "stdout",
          "text": [
            "            id  Nombre d’échéance en retard\n",
            "0     id_89668                            0\n",
            "1     id_68297                            3\n",
            "2     id_77021                            3\n",
            "3     id_27759                            6\n",
            "4     id_89347                            2\n",
            "...        ...                          ...\n",
            "5578  id_13927                            7\n",
            "5579  id_66626                            5\n",
            "5580  id_95016                            0\n",
            "5581   id_8354                            8\n",
            "5582   id_6181                            4\n",
            "\n",
            "[5583 rows x 2 columns]\n"
          ]
        }
      ]
    },
    {
      "cell_type": "code",
      "source": [
        "import pandas as pd\n",
        "file_path = '/content/2.csv'\n",
        "df_sub_2.to_csv(file_path, index=False)"
      ],
      "metadata": {
        "id": "oLvh2275Pl7K"
      },
      "execution_count": null,
      "outputs": []
    },
    {
      "cell_type": "markdown",
      "source": [
        "##model3"
      ],
      "metadata": {
        "id": "NGr8hCL3sIpz"
      }
    },
    {
      "cell_type": "code",
      "source": [
        "import xgboost as xgb\n",
        "from sklearn.metrics import mean_squared_error\n",
        "from sklearn.model_selection import train_test_split\n",
        "\n",
        "\n",
        "\n",
        "# Initialiser le modèle\n",
        "model = xgb.XGBRegressor(learning_rate=0.1, max_depth=5, n_estimators=100)\n",
        "\n",
        "# Entraîner le modèle\n",
        "model.fit(X_train, Y_train)\n",
        "\n",
        "# Prédire les valeurs sur l'ensemble de test\n",
        "y_pred = model.predict(X_test)\n",
        "\n",
        "mse = mean_squared_error(Y_test, y_pred)\n",
        "rmse = np.sqrt(mse)\n",
        "\n",
        "print(\"Root Mean Squared Error (RMSE):\", rmse)\n",
        "\n",
        "\n"
      ],
      "metadata": {
        "id": "ZtQoQdPFsOcF",
        "colab": {
          "base_uri": "https://localhost:8080/"
        },
        "outputId": "b864293a-ba56-4aa6-e177-6c04eacc4df2"
      },
      "execution_count": null,
      "outputs": [
        {
          "output_type": "stream",
          "name": "stdout",
          "text": [
            "Root Mean Squared Error (RMSE): 6.768997574344765\n"
          ]
        }
      ]
    },
    {
      "cell_type": "code",
      "source": [
        "mse = mean_squared_error(Y_test, y_pred)\n",
        "rmse = np.sqrt(mse)\n",
        "\n",
        "print(\"Root Mean Squared Error (RMSE):\", rmse)"
      ],
      "metadata": {
        "colab": {
          "base_uri": "https://localhost:8080/"
        },
        "id": "z59fx1GLsrV9",
        "outputId": "1f188b63-2748-40bc-bf96-8c8e8cd4e94c"
      },
      "execution_count": null,
      "outputs": [
        {
          "output_type": "stream",
          "name": "stdout",
          "text": [
            "Root Mean Squared Error (RMSE): 6.768997574344765\n"
          ]
        }
      ]
    },
    {
      "cell_type": "code",
      "source": [
        "Y=dt[['Taux dendettement', 'Salaire net mensuel.1', 'Ancienneté à lemploi',\n",
        "       'Age', 'Région/pays de résidence', 'Charges totales', 'Montant accepté',\n",
        "       'Montant demandé', 'Secteur dactivité', 'Durée du prêt',\n",
        "       'Ancienneté de logement', 'Statut de lemploi', 'Situation familiale',\n",
        "       'Canal production', 'Situation logement', 'Taux dinteret']]"
      ],
      "metadata": {
        "id": "GanhzOUfOckS"
      },
      "execution_count": null,
      "outputs": []
    },
    {
      "cell_type": "code",
      "source": [
        "y_pred_resultats3 = model.predict(Y)\n"
      ],
      "metadata": {
        "id": "luM0ow3gzJRL"
      },
      "execution_count": null,
      "outputs": []
    },
    {
      "cell_type": "code",
      "source": [
        "import pandas as pd\n",
        "\n",
        "# Liste des ID\n",
        "ids = dt2\n",
        "# Liste des résultats du test\n",
        "y_pred_resultats3\n",
        "\n",
        "rounded_array_3 = np.round(y_pred_resultats3)\n",
        "int_3 = rounded_array_3.astype(int)\n",
        "\n",
        "\n",
        "# Créer le DataFrame\n",
        "df_sub_3 = pd.DataFrame({'id': ids, 'Nombre d’échéance en retard': int_3})\n",
        "\n",
        "# Afficher le DataFrame\n",
        "#print(df_sub_2)\n",
        "#print(y_pred_resultats2)\n",
        "\n",
        "\n",
        "print(df_sub_3)\n",
        "\n",
        "\n",
        "#print(int_2)\n",
        "#print(rounded_array_2)"
      ],
      "metadata": {
        "id": "_SuU0Xc-zSMK",
        "colab": {
          "base_uri": "https://localhost:8080/"
        },
        "outputId": "ac7ded41-99ac-48be-dfeb-4405e7e13863"
      },
      "execution_count": null,
      "outputs": [
        {
          "output_type": "stream",
          "name": "stdout",
          "text": [
            "            id  Nombre d’échéance en retard\n",
            "0     id_89668                            1\n",
            "1     id_68297                            2\n",
            "2     id_77021                            2\n",
            "3     id_27759                            3\n",
            "4     id_89347                            0\n",
            "...        ...                          ...\n",
            "5578  id_13927                            7\n",
            "5579  id_66626                            4\n",
            "5580  id_95016                            2\n",
            "5581   id_8354                            7\n",
            "5582   id_6181                            2\n",
            "\n",
            "[5583 rows x 2 columns]\n"
          ]
        }
      ]
    },
    {
      "cell_type": "code",
      "source": [
        "import pandas as pd\n",
        "file_path = '/content/uv_11.csv'\n",
        "df_sub_3.to_csv(file_path, index=False)"
      ],
      "metadata": {
        "id": "p7oSDfHhzhdO"
      },
      "execution_count": null,
      "outputs": []
    },
    {
      "cell_type": "markdown",
      "source": [
        "##model4:"
      ],
      "metadata": {
        "id": "i47JOHnRx598"
      }
    },
    {
      "cell_type": "code",
      "source": [
        "from sklearn.svm import SVR\n",
        "from sklearn.metrics import mean_squared_error\n",
        "from sklearn.model_selection import train_test_split\n",
        "\n",
        "\n",
        "\n",
        "# Initialiser le modèle\n",
        "model = SVR(kernel='linear' ,C=0.1,epsilon=0.1 )\n",
        "\n",
        "# Entraîner le modèle\n",
        "model.fit(X_train, Y_train)\n",
        "\n",
        "# Prédire les valeurs sur l'ensemble de test\n",
        "y_pred = model.predict(X_test)\n",
        "\n",
        "mse = mean_squared_error(Y_test, y_pred)\n",
        "rmse = np.sqrt(mse)\n",
        "print(\"Root Mean Squared Error (RMSE):\", rmse)\n",
        "\n",
        "\n"
      ],
      "metadata": {
        "id": "mhdJqBMrx7tZ"
      },
      "execution_count": null,
      "outputs": []
    },
    {
      "cell_type": "code",
      "source": [
        "param_grid = {\n",
        "    'kernel': ['linear', 'rbf'],\n",
        "    'C': [0.1, 1, 10],\n",
        "    'epsilon': [0.1, 0.2, 0.3]\n",
        "}"
      ],
      "metadata": {
        "id": "Z2A_jeqERNGt"
      },
      "execution_count": null,
      "outputs": []
    },
    {
      "cell_type": "code",
      "source": [
        "y_pred_resultats4 = model.predict(dt)\n"
      ],
      "metadata": {
        "id": "VFd0sLrz0ZHS"
      },
      "execution_count": null,
      "outputs": []
    },
    {
      "cell_type": "code",
      "source": [
        "import pandas as pd\n",
        "\n",
        "# Liste des ID\n",
        "ids = dt2\n",
        "# Liste des résultats du test\n",
        "y_pred_resultats4\n",
        "\n",
        "rounded_array_4 = np.round(y_pred_resultats4)\n",
        "int_4 = rounded_array_4.astype(int)\n",
        "\n",
        "\n",
        "# Créer le DataFrame\n",
        "df_sub_4 = pd.DataFrame({'id': ids, 'Nombre d’échéance en retard': int_4})\n",
        "\n",
        "# Afficher le DataFrame\n",
        "#print(df_sub_2)\n",
        "#print(y_pred_resultats2)\n",
        "\n",
        "\n",
        "print(df_sub_4)\n",
        "\n",
        "\n",
        "#print(int_2)\n",
        "#print(rounded_array_2)"
      ],
      "metadata": {
        "colab": {
          "base_uri": "https://localhost:8080/"
        },
        "id": "RiiFLm7m0fhV",
        "outputId": "93b80798-6df8-431f-9c99-9f6a45b307ba"
      },
      "execution_count": null,
      "outputs": [
        {
          "output_type": "stream",
          "name": "stdout",
          "text": [
            "            id  Nombre d’échéance en retard\n",
            "0     id_89668                            0\n",
            "1     id_68297                            0\n",
            "2     id_77021                            0\n",
            "3     id_27759                            0\n",
            "4     id_89347                            0\n",
            "...        ...                          ...\n",
            "5578  id_13927                            0\n",
            "5579  id_66626                            0\n",
            "5580  id_95016                            0\n",
            "5581   id_8354                            0\n",
            "5582   id_6181                            0\n",
            "\n",
            "[5583 rows x 2 columns]\n"
          ]
        }
      ]
    },
    {
      "cell_type": "code",
      "source": [
        "import pandas as pd\n",
        "file_path = '/content/uv_10.csv'\n",
        "df_sub_4.to_csv(file_path, index=False)"
      ],
      "metadata": {
        "id": "BOs6ulun0huS"
      },
      "execution_count": null,
      "outputs": []
    },
    {
      "cell_type": "code",
      "source": [
        "X.shape"
      ],
      "metadata": {
        "colab": {
          "base_uri": "https://localhost:8080/"
        },
        "id": "VEF9gZCx1aqZ",
        "outputId": "cb9ee434-c779-42b6-872b-6e875e4fc8cc"
      },
      "execution_count": null,
      "outputs": [
        {
          "output_type": "execute_result",
          "data": {
            "text/plain": [
              "(11333, 21)"
            ]
          },
          "metadata": {},
          "execution_count": 913
        }
      ]
    },
    {
      "cell_type": "markdown",
      "source": [
        "##model6"
      ],
      "metadata": {
        "id": "ybWcaGAhMfe6"
      }
    },
    {
      "cell_type": "code",
      "source": [
        "import numpy as np\n",
        "from tensorflow import keras\n",
        "from sklearn.metrics import mean_squared_error\n",
        "from sklearn.model_selection import train_test_split"
      ],
      "metadata": {
        "id": "BW8Sn7zENxfz"
      },
      "execution_count": null,
      "outputs": []
    },
    {
      "cell_type": "code",
      "source": [
        "\n",
        "X_train,X_test,y_train,y_test = train_test_split(X,Y,test_size=0.2)\n",
        "\n",
        "X_train,X_val,y_train,y_val= train_test_split(X_train,y_train,test_size=0.1)"
      ],
      "metadata": {
        "id": "-j9teKl8MnV7"
      },
      "execution_count": null,
      "outputs": []
    },
    {
      "cell_type": "code",
      "source": [
        "X.shape"
      ],
      "metadata": {
        "colab": {
          "base_uri": "https://localhost:8080/"
        },
        "id": "OcSuHMEjPKbg",
        "outputId": "ed8a73df-6e9d-4091-def0-f1e16ecf3f60"
      },
      "execution_count": null,
      "outputs": [
        {
          "output_type": "execute_result",
          "data": {
            "text/plain": [
              "(11333, 21)"
            ]
          },
          "metadata": {},
          "execution_count": 966
        }
      ]
    },
    {
      "cell_type": "code",
      "source": [
        "from tensorflow import keras\n",
        "\n",
        "# Créer le modèle de régression\n",
        "model = keras.Sequential()\n",
        "model.add(keras.layers.Dense(32, activation='relu', input_shape=(21,)))\n",
        "model.add(keras.layers.Dense(64, activation='relu'))\n",
        "model.add(keras.layers.Dense(128, activation='relu'))\n",
        "model.add(keras.layers.Dense(64, activation='relu'))\n",
        "model.add(keras.layers.Dense(1))  # Couche de sortie pour la régression\n",
        "\n",
        "\n"
      ],
      "metadata": {
        "id": "8LJBxgJGMhWv"
      },
      "execution_count": null,
      "outputs": []
    },
    {
      "cell_type": "code",
      "source": [
        "# Compiler le modèle\n",
        "model.compile(optimizer='adam', loss='mean_squared_error')\n",
        "\n",
        "# Définir l'arrêt anticipé\n",
        "early_stopping = keras.callbacks.EarlyStopping(monitor='val_loss', patience=10, restore_best_weights=True)\n",
        "\n",
        "# Entraîner le modèle avec arrêt anticipé\n",
        "model.fit(X_train, y_train, validation_data=(X_test, y_test), epochs=100, batch_size=32, callbacks=[early_stopping])\n",
        "\n",
        "# Prédire les valeurs sur l'ensemble de test\n",
        "y_pred = model.predict(X_test)"
      ],
      "metadata": {
        "id": "7NOI9M3tPd-3"
      },
      "execution_count": null,
      "outputs": []
    },
    {
      "cell_type": "code",
      "source": [
        "# Calculer l'erreur quadratique moyenne (Mean Squared Error)\n",
        "mse = mean_squared_error(y_test, y_pred)\n",
        "\n",
        "print(\"Mean Squared Error (MSE):\", mse)"
      ],
      "metadata": {
        "colab": {
          "base_uri": "https://localhost:8080/"
        },
        "id": "IbVPHe2sM76l",
        "outputId": "85a75044-4f15-4603-8833-1cf12bf811cf"
      },
      "execution_count": null,
      "outputs": [
        {
          "output_type": "stream",
          "name": "stdout",
          "text": [
            "Mean Squared Error (MSE): 106.75406177243434\n"
          ]
        }
      ]
    },
    {
      "cell_type": "code",
      "source": [
        "rmse = np.sqrt(mse)\n",
        "print(\"Root Mean Squared Error (RMSE):\", rmse)"
      ],
      "metadata": {
        "colab": {
          "base_uri": "https://localhost:8080/"
        },
        "id": "7PKtT59GM41n",
        "outputId": "6d8aef14-aed2-4b6e-82ab-2d627ef8ef80"
      },
      "execution_count": null,
      "outputs": [
        {
          "output_type": "stream",
          "name": "stdout",
          "text": [
            "Root Mean Squared Error (RMSE): 10.332185720961192\n"
          ]
        }
      ]
    },
    {
      "cell_type": "code",
      "source": [
        "y_pred_resultats5 = model.predict(dt)\n",
        "\n",
        "# Assuming you have a tensor 'tensor'\n",
        "y_pred_resultats5_array = np.array(y_pred_resultats5)\n"
      ],
      "metadata": {
        "colab": {
          "base_uri": "https://localhost:8080/"
        },
        "id": "Su7_ulZuQqUz",
        "outputId": "a775e7d4-4422-4684-d894-7bbbdf6e5f10"
      },
      "execution_count": null,
      "outputs": [
        {
          "output_type": "stream",
          "name": "stdout",
          "text": [
            "175/175 [==============================] - 0s 2ms/step\n"
          ]
        }
      ]
    },
    {
      "cell_type": "code",
      "source": [
        "import pandas as pd\n",
        "\n",
        "# Liste des ID\n",
        "ids = dt2\n",
        "# Liste des résultats du test\n",
        "y_pred_resultats5_array\n",
        "\n",
        "rounded_array_5 = np.round(y_pred_resultats5_array)\n",
        "int_5 = rounded_array_5.astype(int)\n",
        "\n",
        "\n",
        "# Créer le DataFrame\n",
        "df_sub_5 = pd.DataFrame({'id': ids, 'Nombre d’échéance en retard': int_5})\n",
        "\n",
        "# Afficher le DataFrame\n",
        "#print(df_sub_2)\n",
        "#print(y_pred_resultats2)\n",
        "\n",
        "\n",
        "print(df_sub_5)\n",
        "\n",
        "\n",
        "#print(int_2)\n",
        "#print(rounded_array_2)"
      ],
      "metadata": {
        "id": "3cb4X-jgQqW4"
      },
      "execution_count": null,
      "outputs": []
    },
    {
      "cell_type": "code",
      "source": [
        "import pandas as pd\n",
        "file_path = '/content/uv_11.csv'\n",
        "df_sub_5.to_csv(file_path, index=False)"
      ],
      "metadata": {
        "id": "0WIcyVtfQqZe"
      },
      "execution_count": null,
      "outputs": []
    },
    {
      "cell_type": "code",
      "source": [
        "ValueError: Per-column arrays must each be 1-dimensional"
      ],
      "metadata": {
        "id": "CdMzl1GsNvHE"
      },
      "execution_count": null,
      "outputs": []
    }
  ]
}